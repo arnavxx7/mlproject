{
 "cells": [
  {
   "cell_type": "markdown",
   "id": "e0f75de6",
   "metadata": {},
   "source": [
    "# MODEL TRAINING"
   ]
  },
  {
   "cell_type": "markdown",
   "id": "dc2fc2ea",
   "metadata": {},
   "source": [
    "## 1.1 Importing required packages"
   ]
  },
  {
   "cell_type": "code",
   "execution_count": 5,
   "id": "5fdb981d",
   "metadata": {},
   "outputs": [
    {
     "name": "stdout",
     "output_type": "stream",
     "text": [
      "Collecting xgboost\n",
      "  Downloading xgboost-3.0.1-py3-none-win_amd64.whl.metadata (2.1 kB)\n",
      "Requirement already satisfied: numpy in c:\\users\\arnav's lappy\\python libraries\\end to end ml proejcts\\mlproject\\.venv\\lib\\site-packages (from xgboost) (2.2.5)\n",
      "Requirement already satisfied: scipy in c:\\users\\arnav's lappy\\python libraries\\end to end ml proejcts\\mlproject\\.venv\\lib\\site-packages (from xgboost) (1.15.3)\n",
      "Downloading xgboost-3.0.1-py3-none-win_amd64.whl (150.0 MB)\n",
      "   ---------------------------------------- 0.0/150.0 MB ? eta -:--:--\n",
      "    --------------------------------------- 2.1/150.0 MB 10.7 MB/s eta 0:00:14\n",
      "   - -------------------------------------- 3.9/150.0 MB 9.8 MB/s eta 0:00:15\n",
      "   - -------------------------------------- 5.2/150.0 MB 8.6 MB/s eta 0:00:17\n",
      "   - -------------------------------------- 6.6/150.0 MB 8.1 MB/s eta 0:00:18\n",
      "   -- ------------------------------------- 7.9/150.0 MB 7.6 MB/s eta 0:00:19\n",
      "   -- ------------------------------------- 9.2/150.0 MB 7.4 MB/s eta 0:00:20\n",
      "   -- ------------------------------------- 10.7/150.0 MB 7.3 MB/s eta 0:00:20\n",
      "   --- ------------------------------------ 12.1/150.0 MB 7.2 MB/s eta 0:00:20\n",
      "   --- ------------------------------------ 13.4/150.0 MB 7.2 MB/s eta 0:00:20\n",
      "   --- ------------------------------------ 14.7/150.0 MB 7.1 MB/s eta 0:00:20\n",
      "   ---- ----------------------------------- 16.3/150.0 MB 7.1 MB/s eta 0:00:19\n",
      "   ---- ----------------------------------- 17.6/150.0 MB 7.0 MB/s eta 0:00:19\n",
      "   ----- ---------------------------------- 18.9/150.0 MB 7.0 MB/s eta 0:00:19\n",
      "   ----- ---------------------------------- 20.2/150.0 MB 6.9 MB/s eta 0:00:19\n",
      "   ----- ---------------------------------- 21.5/150.0 MB 6.9 MB/s eta 0:00:19\n",
      "   ------ --------------------------------- 22.8/150.0 MB 6.9 MB/s eta 0:00:19\n",
      "   ------ --------------------------------- 24.1/150.0 MB 6.8 MB/s eta 0:00:19\n",
      "   ------ --------------------------------- 25.4/150.0 MB 6.8 MB/s eta 0:00:19\n",
      "   ------- -------------------------------- 26.7/150.0 MB 6.8 MB/s eta 0:00:19\n",
      "   ------- -------------------------------- 28.0/150.0 MB 6.8 MB/s eta 0:00:18\n",
      "   ------- -------------------------------- 29.4/150.0 MB 6.8 MB/s eta 0:00:18\n",
      "   -------- ------------------------------- 30.7/150.0 MB 6.8 MB/s eta 0:00:18\n",
      "   -------- ------------------------------- 32.0/150.0 MB 6.7 MB/s eta 0:00:18\n",
      "   -------- ------------------------------- 33.3/150.0 MB 6.8 MB/s eta 0:00:18\n",
      "   --------- ------------------------------ 34.6/150.0 MB 6.7 MB/s eta 0:00:18\n",
      "   --------- ------------------------------ 36.2/150.0 MB 6.7 MB/s eta 0:00:17\n",
      "   --------- ------------------------------ 37.5/150.0 MB 6.7 MB/s eta 0:00:17\n",
      "   ---------- ----------------------------- 38.8/150.0 MB 6.7 MB/s eta 0:00:17\n",
      "   ---------- ----------------------------- 40.1/150.0 MB 6.7 MB/s eta 0:00:17\n",
      "   ----------- ---------------------------- 41.4/150.0 MB 6.7 MB/s eta 0:00:17\n",
      "   ----------- ---------------------------- 42.7/150.0 MB 6.7 MB/s eta 0:00:17\n",
      "   ----------- ---------------------------- 44.3/150.0 MB 6.7 MB/s eta 0:00:16\n",
      "   ------------ --------------------------- 45.6/150.0 MB 6.7 MB/s eta 0:00:16\n",
      "   ------------ --------------------------- 46.9/150.0 MB 6.7 MB/s eta 0:00:16\n",
      "   ------------ --------------------------- 48.2/150.0 MB 6.7 MB/s eta 0:00:16\n",
      "   ------------- -------------------------- 49.5/150.0 MB 6.7 MB/s eta 0:00:16\n",
      "   ------------- -------------------------- 50.9/150.0 MB 6.7 MB/s eta 0:00:15\n",
      "   ------------- -------------------------- 52.2/150.0 MB 6.7 MB/s eta 0:00:15\n",
      "   -------------- ------------------------- 53.5/150.0 MB 6.7 MB/s eta 0:00:15\n",
      "   -------------- ------------------------- 54.8/150.0 MB 6.6 MB/s eta 0:00:15\n",
      "   -------------- ------------------------- 56.1/150.0 MB 6.7 MB/s eta 0:00:15\n",
      "   --------------- ------------------------ 57.4/150.0 MB 6.6 MB/s eta 0:00:14\n",
      "   --------------- ------------------------ 58.7/150.0 MB 6.6 MB/s eta 0:00:14\n",
      "   ---------------- ----------------------- 60.0/150.0 MB 6.6 MB/s eta 0:00:14\n",
      "   ---------------- ----------------------- 61.6/150.0 MB 6.6 MB/s eta 0:00:14\n",
      "   ---------------- ----------------------- 62.9/150.0 MB 6.6 MB/s eta 0:00:14\n",
      "   ----------------- ---------------------- 64.5/150.0 MB 6.6 MB/s eta 0:00:13\n",
      "   ----------------- ---------------------- 65.8/150.0 MB 6.6 MB/s eta 0:00:13\n",
      "   ----------------- ---------------------- 67.1/150.0 MB 6.6 MB/s eta 0:00:13\n",
      "   ------------------ --------------------- 68.4/150.0 MB 6.6 MB/s eta 0:00:13\n",
      "   ------------------ --------------------- 69.7/150.0 MB 6.6 MB/s eta 0:00:13\n",
      "   ------------------ --------------------- 71.0/150.0 MB 6.6 MB/s eta 0:00:12\n",
      "   ------------------- -------------------- 72.6/150.0 MB 6.6 MB/s eta 0:00:12\n",
      "   ------------------- -------------------- 73.7/150.0 MB 6.6 MB/s eta 0:00:12\n",
      "   ------------------- -------------------- 75.0/150.0 MB 6.6 MB/s eta 0:00:12\n",
      "   -------------------- ------------------- 76.3/150.0 MB 6.6 MB/s eta 0:00:12\n",
      "   -------------------- ------------------- 77.6/150.0 MB 6.6 MB/s eta 0:00:11\n",
      "   --------------------- ------------------ 78.9/150.0 MB 6.6 MB/s eta 0:00:11\n",
      "   --------------------- ------------------ 80.5/150.0 MB 6.6 MB/s eta 0:00:11\n",
      "   --------------------- ------------------ 81.8/150.0 MB 6.6 MB/s eta 0:00:11\n",
      "   ---------------------- ----------------- 83.1/150.0 MB 6.6 MB/s eta 0:00:11\n",
      "   ---------------------- ----------------- 84.4/150.0 MB 6.6 MB/s eta 0:00:10\n",
      "   ---------------------- ----------------- 85.7/150.0 MB 6.6 MB/s eta 0:00:10\n",
      "   ----------------------- ---------------- 87.3/150.0 MB 6.6 MB/s eta 0:00:10\n",
      "   ----------------------- ---------------- 88.6/150.0 MB 6.6 MB/s eta 0:00:10\n",
      "   ----------------------- ---------------- 89.9/150.0 MB 6.6 MB/s eta 0:00:10\n",
      "   ------------------------ --------------- 91.2/150.0 MB 6.6 MB/s eta 0:00:09\n",
      "   ------------------------ --------------- 92.5/150.0 MB 6.6 MB/s eta 0:00:09\n",
      "   ------------------------- -------------- 93.8/150.0 MB 6.6 MB/s eta 0:00:09\n",
      "   ------------------------- -------------- 95.4/150.0 MB 6.6 MB/s eta 0:00:09\n",
      "   ------------------------- -------------- 96.7/150.0 MB 6.6 MB/s eta 0:00:09\n",
      "   -------------------------- ------------- 98.0/150.0 MB 6.6 MB/s eta 0:00:08\n",
      "   -------------------------- ------------- 99.4/150.0 MB 6.6 MB/s eta 0:00:08\n",
      "   -------------------------- ------------- 99.6/150.0 MB 6.5 MB/s eta 0:00:08\n",
      "   --------------------------- ------------ 101.4/150.0 MB 6.5 MB/s eta 0:00:08\n",
      "   --------------------------- ------------ 103.5/150.0 MB 6.6 MB/s eta 0:00:08\n",
      "   --------------------------- ------------ 104.9/150.0 MB 6.6 MB/s eta 0:00:07\n",
      "   ---------------------------- ----------- 106.2/150.0 MB 6.6 MB/s eta 0:00:07\n",
      "   ---------------------------- ----------- 107.0/150.0 MB 6.5 MB/s eta 0:00:07\n",
      "   ---------------------------- ----------- 107.5/150.0 MB 6.5 MB/s eta 0:00:07\n",
      "   ----------------------------- ---------- 108.8/150.0 MB 6.5 MB/s eta 0:00:07\n",
      "   ----------------------------- ---------- 110.4/150.0 MB 6.4 MB/s eta 0:00:07\n",
      "   ----------------------------- ---------- 111.4/150.0 MB 6.4 MB/s eta 0:00:07\n",
      "   ------------------------------ --------- 114.0/150.0 MB 6.5 MB/s eta 0:00:06\n",
      "   ------------------------------ --------- 115.3/150.0 MB 6.5 MB/s eta 0:00:06\n",
      "   ------------------------------- -------- 116.7/150.0 MB 6.5 MB/s eta 0:00:06\n",
      "   ------------------------------- -------- 118.0/150.0 MB 6.5 MB/s eta 0:00:05\n",
      "   ------------------------------- -------- 119.5/150.0 MB 6.5 MB/s eta 0:00:05\n",
      "   -------------------------------- ------- 120.8/150.0 MB 6.5 MB/s eta 0:00:05\n",
      "   -------------------------------- ------- 122.2/150.0 MB 6.5 MB/s eta 0:00:05\n",
      "   -------------------------------- ------- 122.7/150.0 MB 6.4 MB/s eta 0:00:05\n",
      "   --------------------------------- ------ 125.3/150.0 MB 6.5 MB/s eta 0:00:04\n",
      "   --------------------------------- ------ 127.4/150.0 MB 6.5 MB/s eta 0:00:04\n",
      "   ---------------------------------- ----- 129.2/150.0 MB 6.4 MB/s eta 0:00:04\n",
      "   ---------------------------------- ----- 130.8/150.0 MB 6.5 MB/s eta 0:00:03\n",
      "   ----------------------------------- ---- 131.3/150.0 MB 6.4 MB/s eta 0:00:03\n",
      "   ----------------------------------- ---- 132.1/150.0 MB 6.4 MB/s eta 0:00:03\n",
      "   ----------------------------------- ---- 132.9/150.0 MB 6.4 MB/s eta 0:00:03\n",
      "   ----------------------------------- ---- 133.7/150.0 MB 6.3 MB/s eta 0:00:03\n",
      "   ----------------------------------- ---- 134.5/150.0 MB 6.3 MB/s eta 0:00:03\n",
      "   ------------------------------------ --- 135.0/150.0 MB 6.3 MB/s eta 0:00:03\n",
      "   ------------------------------------ --- 135.8/150.0 MB 6.3 MB/s eta 0:00:03\n",
      "   ------------------------------------ --- 137.4/150.0 MB 6.2 MB/s eta 0:00:03\n",
      "   ------------------------------------- -- 138.9/150.0 MB 6.2 MB/s eta 0:00:02\n",
      "   ------------------------------------- -- 140.0/150.0 MB 6.2 MB/s eta 0:00:02\n",
      "   ------------------------------------- -- 140.5/150.0 MB 6.2 MB/s eta 0:00:02\n",
      "   ------------------------------------- -- 141.6/150.0 MB 6.2 MB/s eta 0:00:02\n",
      "   -------------------------------------- - 143.1/150.0 MB 6.2 MB/s eta 0:00:02\n",
      "   -------------------------------------- - 144.7/150.0 MB 6.2 MB/s eta 0:00:01\n",
      "   -------------------------------------- - 146.0/150.0 MB 6.2 MB/s eta 0:00:01\n",
      "   ---------------------------------------  147.6/150.0 MB 6.2 MB/s eta 0:00:01\n",
      "   ---------------------------------------  148.9/150.0 MB 6.2 MB/s eta 0:00:01\n",
      "   ---------------------------------------  149.9/150.0 MB 6.2 MB/s eta 0:00:01\n",
      "   ---------------------------------------  149.9/150.0 MB 6.2 MB/s eta 0:00:01\n",
      "   ---------------------------------------  149.9/150.0 MB 6.2 MB/s eta 0:00:01\n",
      "   ---------------------------------------- 150.0/150.0 MB 6.0 MB/s eta 0:00:00\n",
      "Installing collected packages: xgboost\n",
      "Successfully installed xgboost-3.0.1\n",
      "Note: you may need to restart the kernel to use updated packages.\n"
     ]
    }
   ],
   "source": [
    "%pip install xgboost"
   ]
  },
  {
   "cell_type": "code",
   "execution_count": 6,
   "id": "d4d0c0d6",
   "metadata": {},
   "outputs": [],
   "source": [
    "import pandas as pd\n",
    "import numpy as np \n",
    "import matplotlib.pyplot as plt \n",
    "import seaborn as sns\n",
    "#Modelling\n",
    "from sklearn.metrics import r2_score, mean_squared_error, mean_absolute_error\n",
    "from sklearn.neighbors import KNeighborsRegressor\n",
    "from sklearn.tree import DecisionTreeRegressor\n",
    "from sklearn.ensemble import RandomForestRegressor, AdaBoostRegressor\n",
    "from sklearn.svm import SVR\n",
    "from sklearn.linear_model import LinearRegression, Ridge, Lasso\n",
    "from sklearn.model_selection import RandomizedSearchCV\n",
    "from catboost import CatBoostRegressor\n",
    "from xgboost import XGBRegressor\n"
   ]
  },
  {
   "cell_type": "markdown",
   "id": "98969ade",
   "metadata": {},
   "source": [
    "## 1.2 Reading the file"
   ]
  },
  {
   "cell_type": "code",
   "execution_count": 7,
   "id": "96b40fd4",
   "metadata": {},
   "outputs": [],
   "source": [
    "df = pd.read_csv(\"data/stud.csv\")"
   ]
  },
  {
   "cell_type": "code",
   "execution_count": 8,
   "id": "0f41ca7c",
   "metadata": {},
   "outputs": [
    {
     "data": {
      "text/html": [
       "<div>\n",
       "<style scoped>\n",
       "    .dataframe tbody tr th:only-of-type {\n",
       "        vertical-align: middle;\n",
       "    }\n",
       "\n",
       "    .dataframe tbody tr th {\n",
       "        vertical-align: top;\n",
       "    }\n",
       "\n",
       "    .dataframe thead th {\n",
       "        text-align: right;\n",
       "    }\n",
       "</style>\n",
       "<table border=\"1\" class=\"dataframe\">\n",
       "  <thead>\n",
       "    <tr style=\"text-align: right;\">\n",
       "      <th></th>\n",
       "      <th>gender</th>\n",
       "      <th>race_ethnicity</th>\n",
       "      <th>parental_level_of_education</th>\n",
       "      <th>lunch</th>\n",
       "      <th>test_preparation_course</th>\n",
       "      <th>math_score</th>\n",
       "      <th>reading_score</th>\n",
       "      <th>writing_score</th>\n",
       "    </tr>\n",
       "  </thead>\n",
       "  <tbody>\n",
       "    <tr>\n",
       "      <th>0</th>\n",
       "      <td>female</td>\n",
       "      <td>group B</td>\n",
       "      <td>bachelor's degree</td>\n",
       "      <td>standard</td>\n",
       "      <td>none</td>\n",
       "      <td>72</td>\n",
       "      <td>72</td>\n",
       "      <td>74</td>\n",
       "    </tr>\n",
       "    <tr>\n",
       "      <th>1</th>\n",
       "      <td>female</td>\n",
       "      <td>group C</td>\n",
       "      <td>some college</td>\n",
       "      <td>standard</td>\n",
       "      <td>completed</td>\n",
       "      <td>69</td>\n",
       "      <td>90</td>\n",
       "      <td>88</td>\n",
       "    </tr>\n",
       "    <tr>\n",
       "      <th>2</th>\n",
       "      <td>female</td>\n",
       "      <td>group B</td>\n",
       "      <td>master's degree</td>\n",
       "      <td>standard</td>\n",
       "      <td>none</td>\n",
       "      <td>90</td>\n",
       "      <td>95</td>\n",
       "      <td>93</td>\n",
       "    </tr>\n",
       "    <tr>\n",
       "      <th>3</th>\n",
       "      <td>male</td>\n",
       "      <td>group A</td>\n",
       "      <td>associate's degree</td>\n",
       "      <td>free/reduced</td>\n",
       "      <td>none</td>\n",
       "      <td>47</td>\n",
       "      <td>57</td>\n",
       "      <td>44</td>\n",
       "    </tr>\n",
       "    <tr>\n",
       "      <th>4</th>\n",
       "      <td>male</td>\n",
       "      <td>group C</td>\n",
       "      <td>some college</td>\n",
       "      <td>standard</td>\n",
       "      <td>none</td>\n",
       "      <td>76</td>\n",
       "      <td>78</td>\n",
       "      <td>75</td>\n",
       "    </tr>\n",
       "  </tbody>\n",
       "</table>\n",
       "</div>"
      ],
      "text/plain": [
       "   gender race_ethnicity  ... reading_score writing_score\n",
       "0  female        group B  ...            72            74\n",
       "1  female        group C  ...            90            88\n",
       "2  female        group B  ...            95            93\n",
       "3    male        group A  ...            57            44\n",
       "4    male        group C  ...            78            75\n",
       "\n",
       "[5 rows x 8 columns]"
      ]
     },
     "execution_count": 8,
     "metadata": {},
     "output_type": "execute_result"
    }
   ],
   "source": [
    "df.head()"
   ]
  },
  {
   "cell_type": "markdown",
   "id": "0c9291ef",
   "metadata": {},
   "source": [
    "## 1.3 Setting math score as dependent variable, using the rest as independent variable"
   ]
  },
  {
   "cell_type": "markdown",
   "id": "d9a4ad0d",
   "metadata": {},
   "source": [
    "\n",
    "- Avg Score or Total score can also be used as the dependent variable\n",
    "- Here, we are predicitng the math score using the data from the rest of the features"
   ]
  },
  {
   "cell_type": "code",
   "execution_count": null,
   "id": "59432bcb",
   "metadata": {},
   "outputs": [
    {
     "data": {
      "text/html": [
       "<div>\n",
       "<style scoped>\n",
       "    .dataframe tbody tr th:only-of-type {\n",
       "        vertical-align: middle;\n",
       "    }\n",
       "\n",
       "    .dataframe tbody tr th {\n",
       "        vertical-align: top;\n",
       "    }\n",
       "\n",
       "    .dataframe thead th {\n",
       "        text-align: right;\n",
       "    }\n",
       "</style>\n",
       "<table border=\"1\" class=\"dataframe\">\n",
       "  <thead>\n",
       "    <tr style=\"text-align: right;\">\n",
       "      <th></th>\n",
       "      <th>gender</th>\n",
       "      <th>race_ethnicity</th>\n",
       "      <th>parental_level_of_education</th>\n",
       "      <th>lunch</th>\n",
       "      <th>test_preparation_course</th>\n",
       "      <th>reading_score</th>\n",
       "      <th>writing_score</th>\n",
       "    </tr>\n",
       "  </thead>\n",
       "  <tbody>\n",
       "    <tr>\n",
       "      <th>0</th>\n",
       "      <td>female</td>\n",
       "      <td>group B</td>\n",
       "      <td>bachelor's degree</td>\n",
       "      <td>standard</td>\n",
       "      <td>none</td>\n",
       "      <td>72</td>\n",
       "      <td>74</td>\n",
       "    </tr>\n",
       "    <tr>\n",
       "      <th>1</th>\n",
       "      <td>female</td>\n",
       "      <td>group C</td>\n",
       "      <td>some college</td>\n",
       "      <td>standard</td>\n",
       "      <td>completed</td>\n",
       "      <td>90</td>\n",
       "      <td>88</td>\n",
       "    </tr>\n",
       "    <tr>\n",
       "      <th>2</th>\n",
       "      <td>female</td>\n",
       "      <td>group B</td>\n",
       "      <td>master's degree</td>\n",
       "      <td>standard</td>\n",
       "      <td>none</td>\n",
       "      <td>95</td>\n",
       "      <td>93</td>\n",
       "    </tr>\n",
       "    <tr>\n",
       "      <th>3</th>\n",
       "      <td>male</td>\n",
       "      <td>group A</td>\n",
       "      <td>associate's degree</td>\n",
       "      <td>free/reduced</td>\n",
       "      <td>none</td>\n",
       "      <td>57</td>\n",
       "      <td>44</td>\n",
       "    </tr>\n",
       "    <tr>\n",
       "      <th>4</th>\n",
       "      <td>male</td>\n",
       "      <td>group C</td>\n",
       "      <td>some college</td>\n",
       "      <td>standard</td>\n",
       "      <td>none</td>\n",
       "      <td>78</td>\n",
       "      <td>75</td>\n",
       "    </tr>\n",
       "    <tr>\n",
       "      <th>...</th>\n",
       "      <td>...</td>\n",
       "      <td>...</td>\n",
       "      <td>...</td>\n",
       "      <td>...</td>\n",
       "      <td>...</td>\n",
       "      <td>...</td>\n",
       "      <td>...</td>\n",
       "    </tr>\n",
       "    <tr>\n",
       "      <th>995</th>\n",
       "      <td>female</td>\n",
       "      <td>group E</td>\n",
       "      <td>master's degree</td>\n",
       "      <td>standard</td>\n",
       "      <td>completed</td>\n",
       "      <td>99</td>\n",
       "      <td>95</td>\n",
       "    </tr>\n",
       "    <tr>\n",
       "      <th>996</th>\n",
       "      <td>male</td>\n",
       "      <td>group C</td>\n",
       "      <td>high school</td>\n",
       "      <td>free/reduced</td>\n",
       "      <td>none</td>\n",
       "      <td>55</td>\n",
       "      <td>55</td>\n",
       "    </tr>\n",
       "    <tr>\n",
       "      <th>997</th>\n",
       "      <td>female</td>\n",
       "      <td>group C</td>\n",
       "      <td>high school</td>\n",
       "      <td>free/reduced</td>\n",
       "      <td>completed</td>\n",
       "      <td>71</td>\n",
       "      <td>65</td>\n",
       "    </tr>\n",
       "    <tr>\n",
       "      <th>998</th>\n",
       "      <td>female</td>\n",
       "      <td>group D</td>\n",
       "      <td>some college</td>\n",
       "      <td>standard</td>\n",
       "      <td>completed</td>\n",
       "      <td>78</td>\n",
       "      <td>77</td>\n",
       "    </tr>\n",
       "    <tr>\n",
       "      <th>999</th>\n",
       "      <td>female</td>\n",
       "      <td>group D</td>\n",
       "      <td>some college</td>\n",
       "      <td>free/reduced</td>\n",
       "      <td>none</td>\n",
       "      <td>86</td>\n",
       "      <td>86</td>\n",
       "    </tr>\n",
       "  </tbody>\n",
       "</table>\n",
       "<p>1000 rows × 7 columns</p>\n",
       "</div>"
      ],
      "text/plain": [
       "     gender race_ethnicity  ... reading_score writing_score\n",
       "0    female        group B  ...            72            74\n",
       "1    female        group C  ...            90            88\n",
       "2    female        group B  ...            95            93\n",
       "3      male        group A  ...            57            44\n",
       "4      male        group C  ...            78            75\n",
       "..      ...            ...  ...           ...           ...\n",
       "995  female        group E  ...            99            95\n",
       "996    male        group C  ...            55            55\n",
       "997  female        group C  ...            71            65\n",
       "998  female        group D  ...            78            77\n",
       "999  female        group D  ...            86            86\n",
       "\n",
       "[1000 rows x 7 columns]"
      ]
     },
     "execution_count": 9,
     "metadata": {},
     "output_type": "execute_result"
    }
   ],
   "source": [
    "X = df.drop(columns=[\"math_score\"])\n",
    "X"
   ]
  },
  {
   "cell_type": "code",
   "execution_count": 10,
   "id": "0532bc32",
   "metadata": {},
   "outputs": [
    {
     "data": {
      "text/plain": [
       "0    72\n",
       "1    69\n",
       "2    90\n",
       "3    47\n",
       "4    76\n",
       "Name: math_score, dtype: int64"
      ]
     },
     "execution_count": 10,
     "metadata": {},
     "output_type": "execute_result"
    }
   ],
   "source": [
    "y = df[\"math_score\"]\n",
    "y.head()"
   ]
  },
  {
   "cell_type": "markdown",
   "id": "b3b6c564",
   "metadata": {},
   "source": [
    "## 1.4 Data pre-processing"
   ]
  },
  {
   "cell_type": "markdown",
   "id": "957b14ff",
   "metadata": {},
   "source": [
    "### 1.4.1 Cardinality of categorical features"
   ]
  },
  {
   "cell_type": "code",
   "execution_count": 12,
   "id": "e5d06c28",
   "metadata": {},
   "outputs": [
    {
     "name": "stdout",
     "output_type": "stream",
     "text": [
      "The unique values in gender column are: ['female' 'male']\n",
      "The unique values in race_ethnicity column are: ['group B' 'group C' 'group A' 'group D' 'group E']\n",
      "The unique values in parental_level_of_education column are: [\"bachelor's degree\" 'some college' \"master's degree\" \"associate's degree\"\n",
      " 'high school' 'some high school']\n",
      "The unique values in lunch column are: ['standard' 'free/reduced']\n",
      "The unique values in test_preparation_course column are: ['none' 'completed']\n"
     ]
    }
   ],
   "source": [
    "cat_col = X.select_dtypes(include=\"object\").columns\n",
    "num_col = X.select_dtypes(exclude=\"object\").columns\n",
    "for i in cat_col:\n",
    "    print(f\"The unique values in {i} column are: {X[i].unique()}\")"
   ]
  },
  {
   "cell_type": "markdown",
   "id": "71edd37f",
   "metadata": {},
   "source": [
    "- As the cardinality of these categorical columns is not high, one hot encoding can be performed on them"
   ]
  },
  {
   "cell_type": "code",
   "execution_count": 13,
   "id": "7d6c552d",
   "metadata": {},
   "outputs": [
    {
     "data": {
      "text/plain": [
       "Index(['gender', 'race_ethnicity', 'parental_level_of_education', 'lunch',\n",
       "       'test_preparation_course'],\n",
       "      dtype='object')"
      ]
     },
     "execution_count": 13,
     "metadata": {},
     "output_type": "execute_result"
    }
   ],
   "source": [
    "cat_col"
   ]
  },
  {
   "cell_type": "code",
   "execution_count": 14,
   "id": "25d5f328",
   "metadata": {},
   "outputs": [
    {
     "data": {
      "text/plain": [
       "Index(['reading_score', 'writing_score'], dtype='object')"
      ]
     },
     "execution_count": 14,
     "metadata": {},
     "output_type": "execute_result"
    }
   ],
   "source": [
    "num_col"
   ]
  },
  {
   "cell_type": "markdown",
   "id": "9e13c403",
   "metadata": {},
   "source": [
    "### 1.4.2 Creating pipeline for data pre-processing"
   ]
  },
  {
   "cell_type": "markdown",
   "id": "9d1bd979",
   "metadata": {},
   "source": [
    "- Performing one hot encoding on categorical data followed by standardizing numerical data"
   ]
  },
  {
   "cell_type": "code",
   "execution_count": 17,
   "id": "a8ce5c75",
   "metadata": {},
   "outputs": [],
   "source": [
    "from sklearn.preprocessing import OneHotEncoder, StandardScaler\n",
    "from sklearn.compose import ColumnTransformer\n",
    "\n",
    "numeric_transformer = StandardScaler()\n",
    "cat_transformer= OneHotEncoder()\n",
    "\n",
    "preprocessor = ColumnTransformer(\n",
    "    [\n",
    "        (\"OneHotEncoder\",cat_transformer, cat_col),\n",
    "        (\"StandardScaler\", numeric_transformer, num_col),\n",
    "    ]\n",
    ")"
   ]
  },
  {
   "cell_type": "code",
   "execution_count": 18,
   "id": "b53ed3a0",
   "metadata": {},
   "outputs": [
    {
     "data": {
      "text/plain": [
       "(1000, 7)"
      ]
     },
     "execution_count": 18,
     "metadata": {},
     "output_type": "execute_result"
    }
   ],
   "source": [
    "X.shape"
   ]
  },
  {
   "cell_type": "code",
   "execution_count": 19,
   "id": "6f00ab04",
   "metadata": {},
   "outputs": [],
   "source": [
    "X = preprocessor.fit_transform(X)"
   ]
  },
  {
   "cell_type": "code",
   "execution_count": 20,
   "id": "865ff732",
   "metadata": {},
   "outputs": [
    {
     "data": {
      "text/plain": [
       "(1000, 19)"
      ]
     },
     "execution_count": 20,
     "metadata": {},
     "output_type": "execute_result"
    }
   ],
   "source": [
    "X.shape\n"
   ]
  },
  {
   "cell_type": "markdown",
   "id": "fd71dbde",
   "metadata": {},
   "source": [
    "## 1.5 Splitting the data"
   ]
  },
  {
   "cell_type": "code",
   "execution_count": 23,
   "id": "4bed6c81",
   "metadata": {},
   "outputs": [
    {
     "data": {
      "text/plain": [
       "((800, 19), (200, 19), (800,), (200,))"
      ]
     },
     "execution_count": 23,
     "metadata": {},
     "output_type": "execute_result"
    }
   ],
   "source": [
    "from sklearn.model_selection import train_test_split\n",
    "X_train, X_test, y_train, y_test = train_test_split(X,y,test_size=0.2,random_state=42)\n",
    "X_train.shape, X_test.shape, y_train.shape, y_test.shape"
   ]
  },
  {
   "cell_type": "markdown",
   "id": "b946ffb9",
   "metadata": {},
   "source": [
    "## 1.6 Creating an evaluate function to determine metrics"
   ]
  },
  {
   "cell_type": "code",
   "execution_count": 24,
   "id": "56ddcd2d",
   "metadata": {},
   "outputs": [],
   "source": [
    "def evaluate_model(true, predicted):\n",
    "    mae=mean_absolute_error(true, predicted)\n",
    "    mse=mean_squared_error(true, predicted)\n",
    "    rmse = np.sqrt(mse)\n",
    "    r2_square = r2_score(true, predicted)\n",
    "    return mae, rmse, r2_square"
   ]
  },
  {
   "cell_type": "markdown",
   "id": "105e8db2",
   "metadata": {},
   "source": [
    "## 1.7 Defining and Training all model"
   ]
  },
  {
   "cell_type": "code",
   "execution_count": 25,
   "id": "5f644f1b",
   "metadata": {},
   "outputs": [
    {
     "name": "stdout",
     "output_type": "stream",
     "text": [
      "Linear Regression\n",
      "Model performance for Training set\n",
      "- Root Mean Squared Error: 5.3231\n",
      "- Mean Absolute Error: 4.2667\n",
      "- R2 Score: 0.8743\n",
      "----------------------------------\n",
      "Model performance for Test set\n",
      "- Root Mean Squared Error: 5.3940\n",
      "- Mean Absolute Error: 4.2148\n",
      "- R2 Score: 0.8804\n",
      "\n",
      "\n",
      "Lasso\n",
      "Model performance for Training set\n",
      "- Root Mean Squared Error: 6.5938\n",
      "- Mean Absolute Error: 5.2063\n",
      "- R2 Score: 0.8071\n",
      "----------------------------------\n",
      "Model performance for Test set\n",
      "- Root Mean Squared Error: 6.5197\n",
      "- Mean Absolute Error: 5.1579\n",
      "- R2 Score: 0.8253\n",
      "\n",
      "\n",
      "Ridge\n",
      "Model performance for Training set\n",
      "- Root Mean Squared Error: 5.3233\n",
      "- Mean Absolute Error: 4.2650\n",
      "- R2 Score: 0.8743\n",
      "----------------------------------\n",
      "Model performance for Test set\n",
      "- Root Mean Squared Error: 5.3904\n",
      "- Mean Absolute Error: 4.2111\n",
      "- R2 Score: 0.8806\n",
      "\n",
      "\n",
      "K-Neighbors Regressor\n",
      "Model performance for Training set\n",
      "- Root Mean Squared Error: 5.7077\n",
      "- Mean Absolute Error: 4.5167\n",
      "- R2 Score: 0.8555\n",
      "----------------------------------\n",
      "Model performance for Test set\n",
      "- Root Mean Squared Error: 7.2530\n",
      "- Mean Absolute Error: 5.6210\n",
      "- R2 Score: 0.7838\n",
      "\n",
      "\n",
      "Decision Tree\n",
      "Model performance for Training set\n",
      "- Root Mean Squared Error: 0.2795\n",
      "- Mean Absolute Error: 0.0187\n",
      "- R2 Score: 0.9997\n",
      "----------------------------------\n",
      "Model performance for Test set\n",
      "- Root Mean Squared Error: 8.2934\n",
      "- Mean Absolute Error: 6.5100\n",
      "- R2 Score: 0.7173\n",
      "\n",
      "\n",
      "Random Forest Regressor\n",
      "Model performance for Training set\n",
      "- Root Mean Squared Error: 2.2880\n",
      "- Mean Absolute Error: 1.8176\n",
      "- R2 Score: 0.9768\n",
      "----------------------------------\n",
      "Model performance for Test set\n",
      "- Root Mean Squared Error: 6.0102\n",
      "- Mean Absolute Error: 4.6175\n",
      "- R2 Score: 0.8516\n",
      "\n",
      "\n",
      "XGBRegressor\n",
      "Model performance for Training set\n",
      "- Root Mean Squared Error: 1.0073\n",
      "- Mean Absolute Error: 0.6875\n",
      "- R2 Score: 0.9955\n",
      "----------------------------------\n",
      "Model performance for Test set\n",
      "- Root Mean Squared Error: 6.4733\n",
      "- Mean Absolute Error: 5.0577\n",
      "- R2 Score: 0.8278\n",
      "\n",
      "\n",
      "CatBoosting Regressor\n",
      "Model performance for Training set\n",
      "- Root Mean Squared Error: 3.0427\n",
      "- Mean Absolute Error: 2.4054\n",
      "- R2 Score: 0.9589\n",
      "----------------------------------\n",
      "Model performance for Test set\n",
      "- Root Mean Squared Error: 6.0086\n",
      "- Mean Absolute Error: 4.6125\n",
      "- R2 Score: 0.8516\n",
      "\n",
      "\n",
      "AdaBoost Regressor\n",
      "Model performance for Training set\n",
      "- Root Mean Squared Error: 5.9168\n",
      "- Mean Absolute Error: 4.8465\n",
      "- R2 Score: 0.8447\n",
      "----------------------------------\n",
      "Model performance for Test set\n",
      "- Root Mean Squared Error: 6.1292\n",
      "- Mean Absolute Error: 4.7049\n",
      "- R2 Score: 0.8456\n",
      "\n",
      "\n"
     ]
    }
   ],
   "source": [
    "models = {\n",
    "    \"Linear Regression\": LinearRegression(),\n",
    "    \"Lasso\": Lasso(),\n",
    "    \"Ridge\": Ridge(),\n",
    "    \"K-Neighbors Regressor\": KNeighborsRegressor(),\n",
    "    \"Decision Tree\": DecisionTreeRegressor(),\n",
    "    \"Random Forest Regressor\": RandomForestRegressor(),\n",
    "    \"XGBRegressor\": XGBRegressor(), \n",
    "    \"CatBoosting Regressor\": CatBoostRegressor(verbose=False),\n",
    "    \"AdaBoost Regressor\": AdaBoostRegressor()\n",
    "}\n",
    "\n",
    "model_list=[]\n",
    "r2_list=[]\n",
    "\n",
    "for i in range(len(models)):\n",
    "    model = list(models.values())[i]\n",
    "    model.fit(X_train, y_train) # Train the model\n",
    "    #Make prediction\n",
    "    y_train_pred = model.predict(X_train)\n",
    "    y_test_pred = model.predict(X_test)\n",
    "\n",
    "    #Evaluate and test model\n",
    "    model_train_mae, model_train_rmse, model_train_r2 = evaluate_model(y_train, y_train_pred)\n",
    "    model_test_mae, model_test_rmse, model_test_r2 = evaluate_model(y_test, y_test_pred)\n",
    "\n",
    "    print(list(models.keys())[i])\n",
    "    model_list.append(list(models.keys())[i])\n",
    "    \n",
    "    print('Model performance for Training set')\n",
    "    print(\"- Root Mean Squared Error: {:.4f}\".format(model_train_rmse))\n",
    "    print(\"- Mean Absolute Error: {:.4f}\".format(model_train_mae))\n",
    "    print(\"- R2 Score: {:.4f}\".format(model_train_r2))\n",
    "\n",
    "    print('----------------------------------')\n",
    "    \n",
    "    print('Model performance for Test set')\n",
    "    print(\"- Root Mean Squared Error: {:.4f}\".format(model_test_rmse))\n",
    "    print(\"- Mean Absolute Error: {:.4f}\".format(model_test_mae))\n",
    "    print(\"- R2 Score: {:.4f}\".format(model_test_r2))\n",
    "    r2_list.append(model_test_r2)\n",
    "    print('\\n')"
   ]
  },
  {
   "cell_type": "markdown",
   "id": "e6609b25",
   "metadata": {},
   "source": [
    "## 1.8 Results"
   ]
  },
  {
   "cell_type": "code",
   "execution_count": 26,
   "id": "b43d18eb",
   "metadata": {},
   "outputs": [
    {
     "data": {
      "text/plain": [
       "['Linear Regression',\n",
       " 'Lasso',\n",
       " 'Ridge',\n",
       " 'K-Neighbors Regressor',\n",
       " 'Decision Tree',\n",
       " 'Random Forest Regressor',\n",
       " 'XGBRegressor',\n",
       " 'CatBoosting Regressor',\n",
       " 'AdaBoost Regressor']"
      ]
     },
     "execution_count": 26,
     "metadata": {},
     "output_type": "execute_result"
    }
   ],
   "source": [
    "model_list"
   ]
  },
  {
   "cell_type": "code",
   "execution_count": 27,
   "id": "cadef622",
   "metadata": {},
   "outputs": [
    {
     "data": {
      "text/plain": [
       "[0.8804332983749565,\n",
       " 0.8253197323627853,\n",
       " 0.8805931485028737,\n",
       " 0.7838129945787431,\n",
       " 0.7173483511028264,\n",
       " 0.8515551217860486,\n",
       " 0.8277965784072876,\n",
       " 0.8516318920747058,\n",
       " 0.8456159244398576]"
      ]
     },
     "execution_count": 27,
     "metadata": {},
     "output_type": "execute_result"
    }
   ],
   "source": [
    "r2_list"
   ]
  },
  {
   "cell_type": "code",
   "execution_count": 28,
   "id": "38fdc97b",
   "metadata": {},
   "outputs": [
    {
     "data": {
      "text/html": [
       "<div>\n",
       "<style scoped>\n",
       "    .dataframe tbody tr th:only-of-type {\n",
       "        vertical-align: middle;\n",
       "    }\n",
       "\n",
       "    .dataframe tbody tr th {\n",
       "        vertical-align: top;\n",
       "    }\n",
       "\n",
       "    .dataframe thead th {\n",
       "        text-align: right;\n",
       "    }\n",
       "</style>\n",
       "<table border=\"1\" class=\"dataframe\">\n",
       "  <thead>\n",
       "    <tr style=\"text-align: right;\">\n",
       "      <th></th>\n",
       "      <th>Model Name</th>\n",
       "      <th>R2_Score</th>\n",
       "    </tr>\n",
       "  </thead>\n",
       "  <tbody>\n",
       "    <tr>\n",
       "      <th>2</th>\n",
       "      <td>Ridge</td>\n",
       "      <td>0.880593</td>\n",
       "    </tr>\n",
       "    <tr>\n",
       "      <th>0</th>\n",
       "      <td>Linear Regression</td>\n",
       "      <td>0.880433</td>\n",
       "    </tr>\n",
       "    <tr>\n",
       "      <th>7</th>\n",
       "      <td>CatBoosting Regressor</td>\n",
       "      <td>0.851632</td>\n",
       "    </tr>\n",
       "    <tr>\n",
       "      <th>5</th>\n",
       "      <td>Random Forest Regressor</td>\n",
       "      <td>0.851555</td>\n",
       "    </tr>\n",
       "    <tr>\n",
       "      <th>8</th>\n",
       "      <td>AdaBoost Regressor</td>\n",
       "      <td>0.845616</td>\n",
       "    </tr>\n",
       "    <tr>\n",
       "      <th>6</th>\n",
       "      <td>XGBRegressor</td>\n",
       "      <td>0.827797</td>\n",
       "    </tr>\n",
       "    <tr>\n",
       "      <th>1</th>\n",
       "      <td>Lasso</td>\n",
       "      <td>0.825320</td>\n",
       "    </tr>\n",
       "    <tr>\n",
       "      <th>3</th>\n",
       "      <td>K-Neighbors Regressor</td>\n",
       "      <td>0.783813</td>\n",
       "    </tr>\n",
       "    <tr>\n",
       "      <th>4</th>\n",
       "      <td>Decision Tree</td>\n",
       "      <td>0.717348</td>\n",
       "    </tr>\n",
       "  </tbody>\n",
       "</table>\n",
       "</div>"
      ],
      "text/plain": [
       "                Model Name  R2_Score\n",
       "2                    Ridge  0.880593\n",
       "0        Linear Regression  0.880433\n",
       "7    CatBoosting Regressor  0.851632\n",
       "5  Random Forest Regressor  0.851555\n",
       "8       AdaBoost Regressor  0.845616\n",
       "6             XGBRegressor  0.827797\n",
       "1                    Lasso  0.825320\n",
       "3    K-Neighbors Regressor  0.783813\n",
       "4            Decision Tree  0.717348"
      ]
     },
     "execution_count": 28,
     "metadata": {},
     "output_type": "execute_result"
    }
   ],
   "source": [
    "pd.DataFrame(list(zip(model_list, r2_list)), columns=['Model Name', 'R2_Score']).sort_values(by=[\"R2_Score\"],ascending=False)"
   ]
  },
  {
   "cell_type": "markdown",
   "id": "7d83e5f6",
   "metadata": {},
   "source": [
    "- As we can see both Ridge and Linear Regression have the best R2 score, let's select Linear Regression!"
   ]
  },
  {
   "cell_type": "markdown",
   "id": "1c01ed1a",
   "metadata": {},
   "source": [
    "## 1.9 Linear Regression\n"
   ]
  },
  {
   "cell_type": "code",
   "execution_count": 30,
   "id": "5413f703",
   "metadata": {},
   "outputs": [
    {
     "name": "stdout",
     "output_type": "stream",
     "text": [
      "Accuracy of this model is = 88.04\n"
     ]
    }
   ],
   "source": [
    "lin_model = LinearRegression(fit_intercept=True)\n",
    "lin_model.fit(X_train, y_train)\n",
    "y_pred = lin_model.predict(X_test)\n",
    "score = r2_score(y_test, y_pred)*100\n",
    "print(\"Accuracy of this model is = %.2f\" %score)\n"
   ]
  },
  {
   "cell_type": "markdown",
   "id": "b2acc72a",
   "metadata": {},
   "source": [
    "##  2.0 Plot y_pred and y_test"
   ]
  },
  {
   "cell_type": "code",
   "execution_count": 32,
   "id": "f3a2c258",
   "metadata": {},
   "outputs": [
    {
     "data": {
      "image/png": "[encoded data removed]",
      "text/plain": [
       "<Figure size 640x480 with 1 Axes>"
      ]
     },
     "metadata": {},
     "output_type": "display_data"
    }
   ],
   "source": [
    "plt.scatter(y_pred, y_test)\n",
    "plt.xlabel(\"Predicted\")\n",
    "plt.ylabel(\"Actual\")\n",
    "plt.show()"
   ]
  },
  {
   "cell_type": "code",
   "execution_count": 33,
   "id": "7dbeb1e0",
   "metadata": {},
   "outputs": [
    {
     "data": {
      "image/png": "[encoded data removed]",
      "text/plain": [
       "<Figure size 640x480 with 1 Axes>"
      ]
     },
     "metadata": {},
     "output_type": "display_data"
    }
   ],
   "source": [
    "sns.regplot(x=y_test,y=y_pred,ci=None,color ='red');"
   ]
  },
  {
   "cell_type": "code",
   "execution_count": 34,
   "id": "2dc29e0d",
   "metadata": {},
   "outputs": [
    {
     "data": {
      "text/html": [
       "<div>\n",
       "<style scoped>\n",
       "    .dataframe tbody tr th:only-of-type {\n",
       "        vertical-align: middle;\n",
       "    }\n",
       "\n",
       "    .dataframe tbody tr th {\n",
       "        vertical-align: top;\n",
       "    }\n",
       "\n",
       "    .dataframe thead th {\n",
       "        text-align: right;\n",
       "    }\n",
       "</style>\n",
       "<table border=\"1\" class=\"dataframe\">\n",
       "  <thead>\n",
       "    <tr style=\"text-align: right;\">\n",
       "      <th></th>\n",
       "      <th>Actual Value</th>\n",
       "      <th>Predicted Value</th>\n",
       "      <th>Difference</th>\n",
       "    </tr>\n",
       "  </thead>\n",
       "  <tbody>\n",
       "    <tr>\n",
       "      <th>521</th>\n",
       "      <td>91</td>\n",
       "      <td>76.387970</td>\n",
       "      <td>14.612030</td>\n",
       "    </tr>\n",
       "    <tr>\n",
       "      <th>737</th>\n",
       "      <td>53</td>\n",
       "      <td>58.885970</td>\n",
       "      <td>-5.885970</td>\n",
       "    </tr>\n",
       "    <tr>\n",
       "      <th>740</th>\n",
       "      <td>80</td>\n",
       "      <td>76.990265</td>\n",
       "      <td>3.009735</td>\n",
       "    </tr>\n",
       "    <tr>\n",
       "      <th>660</th>\n",
       "      <td>74</td>\n",
       "      <td>76.851804</td>\n",
       "      <td>-2.851804</td>\n",
       "    </tr>\n",
       "    <tr>\n",
       "      <th>411</th>\n",
       "      <td>84</td>\n",
       "      <td>87.627378</td>\n",
       "      <td>-3.627378</td>\n",
       "    </tr>\n",
       "    <tr>\n",
       "      <th>...</th>\n",
       "      <td>...</td>\n",
       "      <td>...</td>\n",
       "      <td>...</td>\n",
       "    </tr>\n",
       "    <tr>\n",
       "      <th>408</th>\n",
       "      <td>52</td>\n",
       "      <td>43.409149</td>\n",
       "      <td>8.590851</td>\n",
       "    </tr>\n",
       "    <tr>\n",
       "      <th>332</th>\n",
       "      <td>62</td>\n",
       "      <td>62.152214</td>\n",
       "      <td>-0.152214</td>\n",
       "    </tr>\n",
       "    <tr>\n",
       "      <th>208</th>\n",
       "      <td>74</td>\n",
       "      <td>67.888395</td>\n",
       "      <td>6.111605</td>\n",
       "    </tr>\n",
       "    <tr>\n",
       "      <th>613</th>\n",
       "      <td>65</td>\n",
       "      <td>67.022287</td>\n",
       "      <td>-2.022287</td>\n",
       "    </tr>\n",
       "    <tr>\n",
       "      <th>78</th>\n",
       "      <td>61</td>\n",
       "      <td>62.345132</td>\n",
       "      <td>-1.345132</td>\n",
       "    </tr>\n",
       "  </tbody>\n",
       "</table>\n",
       "<p>200 rows × 3 columns</p>\n",
       "</div>"
      ],
      "text/plain": [
       "     Actual Value  Predicted Value  Difference\n",
       "521            91        76.387970   14.612030\n",
       "737            53        58.885970   -5.885970\n",
       "740            80        76.990265    3.009735\n",
       "660            74        76.851804   -2.851804\n",
       "411            84        87.627378   -3.627378\n",
       "..            ...              ...         ...\n",
       "408            52        43.409149    8.590851\n",
       "332            62        62.152214   -0.152214\n",
       "208            74        67.888395    6.111605\n",
       "613            65        67.022287   -2.022287\n",
       "78             61        62.345132   -1.345132\n",
       "\n",
       "[200 rows x 3 columns]"
      ]
     },
     "execution_count": 34,
     "metadata": {},
     "output_type": "execute_result"
    }
   ],
   "source": [
    "pred_df=pd.DataFrame({'Actual Value':y_test,'Predicted Value':y_pred,'Difference':y_test-y_pred})\n",
    "pred_df"
   ]
  }
 ],
 "metadata": {
  "kernelspec": {
   "display_name": ".venv",
   "language": "python",
   "name": "python3"
  },
  "language_info": {
   "codemirror_mode": {
    "name": "ipython",
    "version": 3
   },
   "file_extension": ".py",
   "mimetype": "text/x-python",
   "name": "python",
   "nbconvert_exporter": "python",
   "pygments_lexer": "ipython3",
   "version": "3.12.4"
  }
 },
 "nbformat": 4,
 "nbformat_minor": 5
}
